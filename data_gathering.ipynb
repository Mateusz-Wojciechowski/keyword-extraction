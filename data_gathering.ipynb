{
 "cells": [
  {
   "cell_type": "code",
   "execution_count": 1,
   "id": "initial_id",
   "metadata": {},
   "outputs": [],
   "source": [
    "import requests\n",
    "import pandas as pd"
   ]
  },
  {
   "cell_type": "markdown",
   "id": "c1287a83",
   "metadata": {},
   "source": [
    "## Getting a key to the Guardian API"
   ]
  },
  {
   "cell_type": "code",
   "execution_count": 2,
   "id": "efa21961-c6d7-4f18-99c0-b5d03efeed17",
   "metadata": {},
   "outputs": [],
   "source": [
    "API_KEY = \"408cea44-7deb-4ad1-a1a4-bbe559b52e56\""
   ]
  },
  {
   "cell_type": "markdown",
   "id": "964216b4",
   "metadata": {},
   "source": [
    "## Search function and a URL creator"
   ]
  },
  {
   "cell_type": "code",
   "execution_count": 3,
   "id": "0a45d94f-59ff-4e66-a432-9de30c0dc4f5",
   "metadata": {},
   "outputs": [],
   "source": [
    "def search_articles(api_key, search_term='', page=1, page_size=100, format_='json'):\n",
    "    search_term = search_term.replace(' ' , '%20')\n",
    "    url = 'https://content.guardianapis.com/search'\n",
    "    params = {\n",
    "        'api-key': API_KEY,\n",
    "        'format': 'json',\n",
    "        'page': page,\n",
    "        'page-size': page_size,\n",
    "        'q': search_term\n",
    "    }\n",
    "    response = requests.get(url, params=params)\n",
    "    return response.json()"
   ]
  },
  {
   "cell_type": "code",
   "execution_count": 4,
   "id": "bb703395-b602-47aa-be41-f21d219a616e",
   "metadata": {},
   "outputs": [],
   "source": [
    "def create_urls(search_results):\n",
    "    urls = []\n",
    "    for result in search_results:\n",
    "        api_url = result['apiUrl']\n",
    "        urls.append(api_url + '?show-fields=body&api-key=408cea44-7deb-4ad1-a1a4-bbe559b52e56')\n",
    "    return urls"
   ]
  },
  {
   "cell_type": "markdown",
   "id": "15b4ca71",
   "metadata": {},
   "source": [
    "## Preparing the search terms "
   ]
  },
  {
   "cell_type": "code",
   "execution_count": 5,
   "id": "172055ba-0b16-4496-bfc9-b8e50b16f5ba",
   "metadata": {},
   "outputs": [],
   "source": [
    "search_terms = ['donald trump', 'joe biden', 'ukraine', 'economy', 'israel', 'cryptocurrency', 'immigration']"
   ]
  },
  {
   "cell_type": "code",
   "execution_count": 6,
   "id": "43727f53-7bd2-43a2-a8fa-5c5314647ae6",
   "metadata": {},
   "outputs": [],
   "source": [
    "urls_list = []\n",
    "for term in search_terms:\n",
    "    search_results = search_articles(API_KEY, search_term=term)['response']['results']\n",
    "    urls_list.append(create_urls(search_results))"
   ]
  },
  {
   "cell_type": "code",
   "execution_count": 7,
   "id": "3c12ffd3-a99c-40d1-8a6b-6f14d977f054",
   "metadata": {},
   "outputs": [],
   "source": [
    "from bs4 import BeautifulSoup\n",
    "\n",
    "params = {\n",
    "    'show-fields': 'body',\n",
    "}\n",
    "\n",
    "texts = []\n",
    "\n",
    "for urls in urls_list:\n",
    "    for url in urls:\n",
    "        response = requests.get(url, params=params)\n",
    "        response_json = response.json()\n",
    "        try:\n",
    "            response_body = response_json['response']['content']['fields']['body']\n",
    "            soup = BeautifulSoup(response_body, 'html.parser')\n",
    "            text = soup.get_text(separator=' ')\n",
    "            texts.append(text)\n",
    "        except:\n",
    "            pass\n",
    "        "
   ]
  },
  {
   "cell_type": "code",
   "execution_count": 8,
   "id": "8355fb5e-1d4e-4e7a-a5e3-915e63c88729",
   "metadata": {},
   "outputs": [
    {
     "data": {
      "text/html": [
       "<div>\n",
       "<style scoped>\n",
       "    .dataframe tbody tr th:only-of-type {\n",
       "        vertical-align: middle;\n",
       "    }\n",
       "\n",
       "    .dataframe tbody tr th {\n",
       "        vertical-align: top;\n",
       "    }\n",
       "\n",
       "    .dataframe thead th {\n",
       "        text-align: right;\n",
       "    }\n",
       "</style>\n",
       "<table border=\"1\" class=\"dataframe\">\n",
       "  <thead>\n",
       "    <tr style=\"text-align: right;\">\n",
       "      <th></th>\n",
       "      <th>Texts</th>\n",
       "    </tr>\n",
       "  </thead>\n",
       "  <tbody>\n",
       "    <tr>\n",
       "      <th>0</th>\n",
       "      <td>Donald Trump continued his march toward the GO...</td>\n",
       "    </tr>\n",
       "    <tr>\n",
       "      <th>1</th>\n",
       "      <td>Donald Payne Jr, a US congressman from New Jer...</td>\n",
       "    </tr>\n",
       "    <tr>\n",
       "      <th>2</th>\n",
       "      <td>Donald Trump has been jubilant over the  US su...</td>\n",
       "    </tr>\n",
       "    <tr>\n",
       "      <th>3</th>\n",
       "      <td>The New York City mayor, Eric Adams, said the ...</td>\n",
       "    </tr>\n",
       "    <tr>\n",
       "      <th>4</th>\n",
       "      <td>Andrzej Duda, Poland’s conservative president,...</td>\n",
       "    </tr>\n",
       "    <tr>\n",
       "      <th>...</th>\n",
       "      <td>...</td>\n",
       "    </tr>\n",
       "    <tr>\n",
       "      <th>528</th>\n",
       "      <td>Lenny Henry says he hopes his new Windrush-bas...</td>\n",
       "    </tr>\n",
       "    <tr>\n",
       "      <th>529</th>\n",
       "      <td>Indefinite immigration detention is unlawful, ...</td>\n",
       "    </tr>\n",
       "    <tr>\n",
       "      <th>530</th>\n",
       "      <td>There has been a self-harm incident or suicide...</td>\n",
       "    </tr>\n",
       "    <tr>\n",
       "      <th>531</th>\n",
       "      <td>It was the late 1970s when Bartley Duggan fled...</td>\n",
       "    </tr>\n",
       "    <tr>\n",
       "      <th>532</th>\n",
       "      <td>We seem to be living in times of unprecedented...</td>\n",
       "    </tr>\n",
       "  </tbody>\n",
       "</table>\n",
       "<p>533 rows × 1 columns</p>\n",
       "</div>"
      ],
      "text/plain": [
       "                                                 Texts\n",
       "0    Donald Trump continued his march toward the GO...\n",
       "1    Donald Payne Jr, a US congressman from New Jer...\n",
       "2    Donald Trump has been jubilant over the  US su...\n",
       "3    The New York City mayor, Eric Adams, said the ...\n",
       "4    Andrzej Duda, Poland’s conservative president,...\n",
       "..                                                 ...\n",
       "528  Lenny Henry says he hopes his new Windrush-bas...\n",
       "529  Indefinite immigration detention is unlawful, ...\n",
       "530  There has been a self-harm incident or suicide...\n",
       "531  It was the late 1970s when Bartley Duggan fled...\n",
       "532  We seem to be living in times of unprecedented...\n",
       "\n",
       "[533 rows x 1 columns]"
      ]
     },
     "execution_count": 8,
     "metadata": {},
     "output_type": "execute_result"
    }
   ],
   "source": [
    "data_frame = pd.DataFrame(texts, columns=['Texts'])\n",
    "data_frame"
   ]
  },
  {
   "cell_type": "markdown",
   "id": "a7313e54",
   "metadata": {},
   "source": [
    "## Importing libraries for text preprocessing and cleaning"
   ]
  },
  {
   "cell_type": "code",
   "execution_count": 9,
   "id": "5179c810-55fd-4ef7-96dc-580dc16e05b5",
   "metadata": {},
   "outputs": [
    {
     "name": "stderr",
     "output_type": "stream",
     "text": [
      "[nltk_data] Downloading package wordnet to\n",
      "[nltk_data]     C:\\Users\\mwojc\\AppData\\Roaming\\nltk_data...\n",
      "[nltk_data]   Package wordnet is already up-to-date!\n"
     ]
    },
    {
     "data": {
      "text/plain": [
       "True"
      ]
     },
     "execution_count": 9,
     "metadata": {},
     "output_type": "execute_result"
    }
   ],
   "source": [
    "import pandas as pd\n",
    "import re\n",
    "from nltk.tokenize import word_tokenize\n",
    "from nltk.stem import WordNetLemmatizer\n",
    "import nltk\n",
    "nltk.download('wordnet')"
   ]
  },
  {
   "cell_type": "markdown",
   "id": "5ccaab63",
   "metadata": {},
   "source": [
    "## Cleaning the text and adding a cleaned_text column to the dataframe"
   ]
  },
  {
   "cell_type": "code",
   "execution_count": 10,
   "id": "ca3c8afc",
   "metadata": {},
   "outputs": [],
   "source": [
    "lemmatizer = WordNetLemmatizer()\n",
    "\n",
    "def clean_and_lemmatize(text):\n",
    "    text = text.lower()\n",
    "    text = re.sub(r'[^a-zA-Z0-9\\s]', '', text)\n",
    "    text = re.sub(r'\\s+', ' ', text).strip()\n",
    "    words = word_tokenize(text)\n",
    "    words = [lemmatizer.lemmatize(word) for word in words]\n",
    "    return ' '.join(words)"
   ]
  },
  {
   "cell_type": "code",
   "execution_count": 12,
   "id": "c2121031",
   "metadata": {},
   "outputs": [],
   "source": [
    "data_frame['cleaned_text'] = data_frame['Texts'].apply(clean_and_lemmatize)"
   ]
  },
  {
   "cell_type": "code",
   "execution_count": 14,
   "id": "a97b579d",
   "metadata": {},
   "outputs": [
    {
     "data": {
      "text/plain": [
       "0      donald trump continued his march toward the go...\n",
       "1      donald payne jr a u congressman from new jerse...\n",
       "2      donald trump ha been jubilant over the u supre...\n",
       "3      the new york city mayor eric adam said the cit...\n",
       "4      andrzej duda poland conservative president is ...\n",
       "                             ...                        \n",
       "528    lenny henry say he hope his new windrushbased ...\n",
       "529    indefinite immigration detention is unlawful t...\n",
       "530    there ha been a selfharm incident or suicide a...\n",
       "531    it wa the late 1970s when bartley duggan fled ...\n",
       "532    we seem to be living in time of unprecedented ...\n",
       "Name: cleaned_text, Length: 533, dtype: object"
      ]
     },
     "execution_count": 14,
     "metadata": {},
     "output_type": "execute_result"
    }
   ],
   "source": [
    "data_frame['cleaned_text']"
   ]
  },
  {
   "cell_type": "markdown",
   "id": "2feec54e",
   "metadata": {},
   "source": [
    "## Saving the dataframe and displaying a sample preprocessed text"
   ]
  },
  {
   "cell_type": "code",
   "execution_count": 15,
   "id": "2ec7b705",
   "metadata": {},
   "outputs": [],
   "source": [
    "data_frame_cleaned = pd.DataFrame(data_frame, columns=['Texts', 'cleaned_text'])\n",
    "data_frame_cleaned.to_csv('article_data_cleaned.csv', index=False, encoding='utf-8')"
   ]
  },
  {
   "cell_type": "code",
   "execution_count": 16,
   "id": "dfa9e8e6",
   "metadata": {},
   "outputs": [
    {
     "data": {
      "text/plain": [
       "'donald trump continued his march toward the gop nomination at the michigan republican party convention on saturday sweeping all 39 delegate related a farright u youth group is ramping up it movement to back election denier the delegate awarded will fuel the former president ahead of tuesday 5 march when 15 state will hold primary and trump nomination could be all but decided the michigan state party delegate met on saturday at the sprawling amway plaza hotel in grand rapid huddling in 13 separate meeting room representing the state 13 congressional district their nearuniform support for trump at the convention eclipsed the support he earned in the primary when former un ambassador nikki haley garnered about 26 of the vote she did not win any delegate awarded on saturday for the republican national convention in milwaukee where the party in july will officially nominate a candidate for the november presidential election the michigan republican party process for awarding delegate to the national committee wa complicated this year the democraticcontrolled state legislature decided to hold the presidential primary early this prompted the state republican party to create a hybrid model holding a primary on 27 february and a convention four day later to remain in compliance with the national party rule the convention on saturday at time took on the tone of a campaign rally president trump im going to help you win michigan exclaimed bernadette smith a michigan republican party activist running to be michigan republican national convention committeewoman during a speech at the convention saturday im from detroit i wa raised in detroit said smith to cheer detroit is red they just dont know it yet but if delegate found common cause today it wa only in their unyielding support for trump the michigan republican party ha been split for month over interpersonal feud in the county chapter the role of christian nationalism in the party at large and question about how to salvage the party from financial collapse the division fomenting in the party broke into the open this year in a leadership dispute when a group opposing the former michigan gop chair kristina karamo voted to oust her in january the republican national committee in february recognized pete hoekstra a close trump ally whom karamos opponent elected to chair the party a the rightful leader of the michigan gop karamo and her ally refused to accept defeat vowing to hold a separate convention in detroit which fell apart only after a judge ruled on tuesday that karamo had been properly removed from her seat and forbade her from using official michigan gop social medium account or accessing it finance before she wa elected last year to chair the michigan republican party karamo made a name for herself a a vocal proponent of trump false claim of widespread voter fraud during the 2020 election in michigan karamo went on to run for michigan secretary of state the office overseeing election in the state in 2022 she lost by 14 point but never conceded karamo who ha developed a reputation for floating outlandish conspiracy theory and who embrace christian nationalism ha referred to the split within the party a a form of spiritual warfare and her political opponent a demonic rhetoric embraced by section of the growing rightwing pentecostal movement in the u republican in the party were willing to look past the stranger aspect of their eccentric chair but when she failed to salvage the party struggling finance even splurging on a 100000 fee to bring jim caviezel the qanonaffiliated star of the passion of christ to speak at the mackinac republican leadership conference many grew frustrated with her but she ha retained loyalist in the party many of whom planned to attend karamos alternate gop convention in detroit before it wa canceled without a convention of their own some supporter of the former chair changed course at the last minute opting instead to attend the official one and lobbying mostly successfully for recognition in grand rapid others abandoned the convention entirely choosing to stay home or decamp to various alternative meeting held around the state on the same day republican party leader from the 1st congressional district which contains 15 county in the upper peninsula informed member friday that their district would be caucusing separately amid concern that the official convention would not accept their delegate the newly declared administration of the michigan republican party appears to be inviting dissent and disregarding rule with the consent of their michigan republican party ally said district chair daire rendon in a statement we will not play that game by falling into their confusing messaging and backtracking daire rendon did u a favor said tom stilling a michigan gop activist and former chair of the antrim county republican party which is in the first congressional district all the extremist were out there and the fear wa that they would be here without many of their delegate the 1st congressional caucus room sat mostly empty but rift in the michigan gop cut deeper than the crisis of leadership that the party ha faced this year often playing out at the county level in the republican party of hillsdale for example a small and conservative county in southern michigan party activist have been embroiled in a parallel dispute for year one thats been fought between the party and a faction of the party dubbed the america first republican party a judge in april 2023 ruled that the america first faction were not the legal leader of the party and in january found numerous activist including karamo in contempt of court for failing to recognize the ruling party activist in the 5th congressional district which stretch across the south of the state and represents hillsdale county tried to tamp down that dispute on saturday we all want to prevent a revolt said suzy avery a prominent michigan conservative who sits on the board of the michigan republican party trust and who resides in hillsdale avery who caucus with the hillsdale county republican party helped broker a deal with the america first activist granting that faction nine of the county party 13 delegate a similar split grew last year in kalamazoo county leading to a physical altercation during a state gop meeting last year leader in the michigan republican party downplayed intraparty tension on saturday viewing their ability to shepherd delegate through the saturday convention a a success today wa relatively uneventful it exciting that we can maybe move on said vance patrick the chair of the oakland county republican party the largest chapter of the michigan gop the crazy part about all this is everyone here is for trump'"
      ]
     },
     "execution_count": 16,
     "metadata": {},
     "output_type": "execute_result"
    }
   ],
   "source": [
    "data_frame_cleaned['cleaned_text'][0]"
   ]
  },
  {
   "cell_type": "code",
   "execution_count": null,
   "id": "57b4a3ba",
   "metadata": {},
   "outputs": [],
   "source": []
  }
 ],
 "metadata": {
  "kernelspec": {
   "display_name": "Python 3 (ipykernel)",
   "language": "python",
   "name": "python3"
  },
  "language_info": {
   "codemirror_mode": {
    "name": "ipython",
    "version": 3
   },
   "file_extension": ".py",
   "mimetype": "text/x-python",
   "name": "python",
   "nbconvert_exporter": "python",
   "pygments_lexer": "ipython3",
   "version": "3.11.4"
  }
 },
 "nbformat": 4,
 "nbformat_minor": 5
}
